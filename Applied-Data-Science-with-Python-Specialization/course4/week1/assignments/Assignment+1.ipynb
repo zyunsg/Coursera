{
 "cells": [
  {
   "cell_type": "markdown",
   "metadata": {},
   "source": [
    "---\n",
    "\n",
    "_You are currently looking at **version 1.1** of this notebook. To download notebooks and datafiles, as well as get help on Jupyter notebooks in the Coursera platform, visit the [Jupyter Notebook FAQ](https://www.coursera.org/learn/python-text-mining/resources/d9pwm) course resource._\n",
    "\n",
    "---"
   ]
  },
  {
   "cell_type": "markdown",
   "metadata": {},
   "source": [
    "# Assignment 1\n",
    "\n",
    "In this assignment, you'll be working with messy medical data and using regex to extract relevant infromation from the data. \n",
    "\n",
    "Each line of the `dates.txt` file corresponds to a medical note. Each note has a date that needs to be extracted, but each date is encoded in one of many formats.\n",
    "\n",
    "The goal of this assignment is to correctly identify all of the different date variants encoded in this dataset and to properly normalize and sort the dates. \n",
    "\n",
    "Here is a list of some of the variants you might encounter in this dataset:\n",
    "* 04/20/2009; 04/20/09; 4/20/09; 4/3/09\n",
    "* Mar-20-2009; Mar 20, 2009; March 20, 2009;  Mar. 20, 2009; Mar 20 2009;\n",
    "* 20 Mar 2009; 20 March 2009; 20 Mar. 2009; 20 March, 2009\n",
    "* Mar 20th, 2009; Mar 21st, 2009; Mar 22nd, 2009\n",
    "* Feb 2009; Sep 2009; Oct 2010\n",
    "* 6/2008; 12/2009\n",
    "* 2009; 2010\n",
    "\n",
    "Once you have extracted these date patterns from the text, the next step is to sort them in ascending chronological order accoring to the following rules:\n",
    "* Assume all dates in xx/xx/xx format are mm/dd/yy\n",
    "* Assume all dates where year is encoded in only two digits are years from the 1900's (e.g. 1/5/89 is January 5th, 1989)\n",
    "* If the day is missing (e.g. 9/2009), assume it is the first day of the month (e.g. September 1, 2009).\n",
    "* If the month is missing (e.g. 2010), assume it is the first of January of that year (e.g. January 1, 2010).\n",
    "* Watch out for potential typos as this is a raw, real-life derived dataset.\n",
    "\n",
    "With these rules in mind, find the correct date in each note and return a pandas Series in chronological order of the original Series' indices.\n",
    "\n",
    "For example if the original series was this:\n",
    "\n",
    "    0    1999\n",
    "    1    2010\n",
    "    2    1978\n",
    "    3    2015\n",
    "    4    1985\n",
    "\n",
    "Your function should return this:\n",
    "\n",
    "    0    2\n",
    "    1    4\n",
    "    2    0\n",
    "    3    1\n",
    "    4    3\n",
    "\n",
    "Your score will be calculated using [Kendall's tau](https://en.wikipedia.org/wiki/Kendall_rank_correlation_coefficient), a correlation measure for ordinal data.\n",
    "\n",
    "*This function should return a Series of length 500 and dtype int.*"
   ]
  },
  {
   "cell_type": "code",
   "execution_count": 1,
   "metadata": {},
   "outputs": [
    {
     "data": {
      "text/plain": [
       "0         03/25/93 Total time of visit (in minutes):\\n\n",
       "1                       6/18/85 Primary Care Doctor:\\n\n",
       "2    sshe plans to move as of 7/8/71 In-Home Servic...\n",
       "3                7 on 9/27/75 Audit C Score Current:\\n\n",
       "4    2/6/96 sleep studyPain Treatment Pain Level (N...\n",
       "5                    .Per 7/06/79 Movement D/O note:\\n\n",
       "6    4, 5/18/78 Patient's thoughts about current su...\n",
       "7    10/24/89 CPT Code: 90801 - Psychiatric Diagnos...\n",
       "8                         3/7/86 SOS-10 Total Score:\\n\n",
       "9             (4/10/71)Score-1Audit C Score Current:\\n\n",
       "dtype: object"
      ]
     },
     "execution_count": 1,
     "metadata": {},
     "output_type": "execute_result"
    }
   ],
   "source": [
    "import pandas as pd\n",
    "\n",
    "doc = []\n",
    "with open('dates.txt') as file:\n",
    "    for line in file:\n",
    "        doc.append(line)\n",
    "\n",
    "df = pd.Series(doc)\n",
    "df.head(10)"
   ]
  },
  {
   "cell_type": "code",
   "execution_count": 2,
   "metadata": {
    "collapsed": true
   },
   "outputs": [],
   "source": [
    "import numpy as np\n",
    "from datetime import datetime"
   ]
  },
  {
   "cell_type": "code",
   "execution_count": 3,
   "metadata": {
    "collapsed": true
   },
   "outputs": [],
   "source": [
    "def date_sorter():\n",
    "\n",
    "    # 04/20/2009; 04/20/09; 4/20/09; 4/3/09\n",
    "    d1 =df.str.extractall(r'(?P<month>\\d{1,2})[/-](?P<day>\\d{1,2})[/-](?P<year>\\d{2,4})')\n",
    "    d1.reset_index(inplace=True)\n",
    "    d1.set_index('level_0', inplace=True)\n",
    "    d1['year']=d1['year'].apply(lambda x: '19'+x if len(x)<=2 else x) # convert yy to yyyy\n",
    "    \n",
    "    # Mar-20-2009; Mar 20, 2009; March 20, 2009; Mar. 20, 2009; Mar 20 2009;\n",
    "    d2 = df.str.extractall(r'(?P<month>(?:Jan|Feb|Mar|Apr|May|Jun|Jul|Aug|Sep|Oct|Nov|Dec)[a-z]*)[-.]* (?P<day>(?:\\d{1,2}))[?:, -]*(?P<year>\\d{4})')\n",
    "    d2.reset_index(inplace=True)\n",
    "    d2.set_index('level_0', inplace=True)\n",
    "    \n",
    "    # 20 Mar 2009; 20 March 2009; 20 Mar. 2009; 20 March, 2009\n",
    "    # Feb 2009; Sep 2009; Oct 2010\n",
    "    d3 = df.str.extractall(r'(?P<day>(?:\\d{1,2} ))?(?P<month>(?:Jan|Feb|Mar|Apr|May|Jun|Jul|Aug|Sep|Oct|Nov|Dec)[a-z]*)[?:, -]*(?P<year>\\d{4})')\n",
    "    d3.reset_index(inplace=True)\n",
    "    d3.set_index('level_0', inplace=True)\n",
    "    d3.day.fillna(1, inplace=True) # fill day missing values\n",
    "    \n",
    "    mapping_list ={'Apr' :4, 'April':4, 'Aug' :8, 'August': 8, 'Dec':12, 'December':12, 'Decemeber':12,\n",
    "         'Feb':2, 'February':2, 'Jan':1, 'Janaury':1, 'January':1, 'Jul':7, 'July':7, 'Jun':6, 'June':6,\n",
    "         'Mar':3, 'March':3, 'May':5, 'Nov':11, 'November':11, 'Oct':10, 'October':10, 'Sep':9,'September':9}\n",
    "    \n",
    "    \n",
    "    # mapping the month to digits\n",
    "    d2['month']= d2.month.map(mapping_list)\n",
    "    d3['month'] = d3.month.map(mapping_list)\n",
    "    \n",
    "    '''\n",
    "    # Mar 20th, 2009; Mar 21st, 2009; Mar 22nd, 2009\n",
    "    d3 = df.str.extractall(r'((?:Jan|Feb|Mar|Apr|May|Jun|Jul|Aug|Sep|Oct|Nov|Dec)[a-z]* )((?:\\d{1,2}(?:st|nd|rd|th), )\\d{2, 4})')\n",
    "    d3.reset_index(inplace=True)\n",
    "    d3.set_index('level_0', inplace=True)\n",
    "    '''\n",
    "    \n",
    "    # 6/2008; 12/2009\n",
    "    d4 = df.str.extractall(r'(?P<month>\\d{1,2})[/](?P<year>\\d{4})')\n",
    "    d4.reset_index(inplace=True)\n",
    "    d4.set_index('level_0', inplace=True)\n",
    "    \n",
    "    # 2009; 2010\n",
    "    d5 = df.str.extractall(r'[a-z]?[^0-9](?P<year>\\d{4})[^0-9]')\n",
    "    d6 = df.str.extractall(r'^(?P<year>\\d{4})[^0-9]')\n",
    "    d5 = d5.append(d6)\n",
    "    d5.reset_index(inplace=True)\n",
    "    d5.set_index('level_0', inplace=True)\n",
    "\n",
    "    \n",
    "    # remove common level_0\n",
    "    index_0 = [i for i in d4.index if (i not in d1.index)]\n",
    "    d4 = d4.loc[index_0]\n",
    "    d4['day'] = 1\n",
    "    \n",
    "    index_1 = [i for i in d5.index if (i not in d1.index) and (i not in d2.index) and (i not in d3.index) and (i not in d4.index)]\n",
    "    d5 = d5.loc[index_1]\n",
    "    d5['month'] = 1\n",
    "    d5['day'] = 1\n",
    "    \n",
    "    # concat\n",
    "    d1 = d1[['month', 'day', 'year']]\n",
    "    d2 = d2[['month', 'day', 'year']]\n",
    "    d3 = d3[['month', 'day', 'year']]\n",
    "    d4 = d4[['month', 'day', 'year']]\n",
    "    d5 = d5[['month', 'day', 'year']]\n",
    "    result = pd.concat([d1,d2,d3,d4,d5])\n",
    "    \n",
    "    result = result[result.day.apply(int) <= 31] # drop days\n",
    "    result = result[result.year.apply(int) <= 5999] # drop years\n",
    "    result = result[result.month.apply(int) <= 12] # drop month\n",
    "\n",
    "    \n",
    "    result['date'] = pd.to_datetime(result['month'].apply(str)+'/'+result['day'].apply(str)+'/'+ result['year'].apply(str))\n",
    "    result.sort_index(inplace=True)\n",
    "    \n",
    "    answer = pd.Series(result.sort_values(by='date').index)[:500]\n",
    "    return answer"
   ]
  },
  {
   "cell_type": "code",
   "execution_count": 4,
   "metadata": {
    "scrolled": true
   },
   "outputs": [
    {
     "data": {
      "text/plain": [
       "0        9\n",
       "1       84\n",
       "2        2\n",
       "3       53\n",
       "4       28\n",
       "5      474\n",
       "6      153\n",
       "7       13\n",
       "8      129\n",
       "9       98\n",
       "10     111\n",
       "11     225\n",
       "12      31\n",
       "13     171\n",
       "14     191\n",
       "15     486\n",
       "16     335\n",
       "17     415\n",
       "18      36\n",
       "19     405\n",
       "20     323\n",
       "21     422\n",
       "22     375\n",
       "23     380\n",
       "24     345\n",
       "25      57\n",
       "26     481\n",
       "27     436\n",
       "28     104\n",
       "29     299\n",
       "      ... \n",
       "470    220\n",
       "471    208\n",
       "472    243\n",
       "473    139\n",
       "474    320\n",
       "475    383\n",
       "476    244\n",
       "477    286\n",
       "478    480\n",
       "479    431\n",
       "480    279\n",
       "481    198\n",
       "482    381\n",
       "483    463\n",
       "484    366\n",
       "485    439\n",
       "486    255\n",
       "487    401\n",
       "488    475\n",
       "489    257\n",
       "490    152\n",
       "491    235\n",
       "492    464\n",
       "493    253\n",
       "494    427\n",
       "495    231\n",
       "496    141\n",
       "497    186\n",
       "498    161\n",
       "499    413\n",
       "Name: level_0, Length: 500, dtype: int64"
      ]
     },
     "execution_count": 4,
     "metadata": {},
     "output_type": "execute_result"
    }
   ],
   "source": [
    "date_sorter()"
   ]
  },
  {
   "cell_type": "code",
   "execution_count": null,
   "metadata": {
    "collapsed": true
   },
   "outputs": [],
   "source": []
  }
 ],
 "metadata": {
  "coursera": {
   "course_slug": "python-text-mining",
   "graded_item_id": "LvcWI",
   "launcher_item_id": "krne9",
   "part_id": "Mkp1I"
  },
  "kernelspec": {
   "display_name": "Python 3",
   "language": "python",
   "name": "python3"
  },
  "language_info": {
   "codemirror_mode": {
    "name": "ipython",
    "version": 3
   },
   "file_extension": ".py",
   "mimetype": "text/x-python",
   "name": "python",
   "nbconvert_exporter": "python",
   "pygments_lexer": "ipython3",
   "version": "3.6.0"
  }
 },
 "nbformat": 4,
 "nbformat_minor": 2
}
